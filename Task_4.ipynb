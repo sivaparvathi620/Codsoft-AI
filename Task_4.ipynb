{
  "nbformat": 4,
  "nbformat_minor": 0,
  "metadata": {
    "colab": {
      "provenance": [],
      "authorship_tag": "ABX9TyN1ff3VJg9J5gVUq8ZhzUM2",
      "include_colab_link": true
    },
    "kernelspec": {
      "name": "python3",
      "display_name": "Python 3"
    },
    "language_info": {
      "name": "python"
    }
  },
  "cells": [
    {
      "cell_type": "markdown",
      "metadata": {
        "id": "view-in-github",
        "colab_type": "text"
      },
      "source": [
        "<a href=\"https://colab.research.google.com/github/sivaparvathi620/Codsoft-AI/blob/main/Task_4.ipynb\" target=\"_parent\"><img src=\"https://colab.research.google.com/assets/colab-badge.svg\" alt=\"Open In Colab\"/></a>"
      ]
    },
    {
      "cell_type": "code",
      "execution_count": 2,
      "metadata": {
        "id": "2Kg-Uo5gRTMP",
        "colab": {
          "base_uri": "https://localhost:8080/"
        },
        "outputId": "023aa307-9051-48d1-aee5-654a77c85bfb"
      },
      "outputs": [
        {
          "output_type": "stream",
          "name": "stdout",
          "text": [
            "Recommendations for Inception: ['Interstellar', 'The Prestige', 'Memento']\n"
          ]
        }
      ],
      "source": [
        "import pandas as pd\n",
        "from sklearn.feature_extraction.text import TfidfVectorizer\n",
        "from sklearn.metrics.pairwise import cosine_similarity\n",
        "\n",
        "# Sample dataset (replace with your CSV)\n",
        "data = {\n",
        "    'title': ['Inception', 'Interstellar', 'The Prestige', 'Memento', 'Dunkirk'],\n",
        "    'description': [\n",
        "        'A thief who steals corporate secrets through the use of dream-sharing technology.',\n",
        "        'A team of explorers travel through a wormhole in space in an attempt to ensure humanity’s survival.',\n",
        "        'Two stage magicians engage in competitive rivalry with tragic results.',\n",
        "        'A man with short-term memory loss attempts to track down his wife’s murderer.',\n",
        "        'Allied soldiers are surrounded by the German army and evacuated during WWII.'\n",
        "    ]\n",
        "}\n",
        "df = pd.DataFrame(data)\n",
        "\n",
        "# Step 1: Convert descriptions into vectors\n",
        "vectorizer = TfidfVectorizer(stop_words='english')\n",
        "tfidf_matrix = vectorizer.fit_transform(df['description'])\n",
        "\n",
        "# Step 2: Compute cosine similarity\n",
        "cosine_sim = cosine_similarity(tfidf_matrix, tfidf_matrix)\n",
        "\n",
        "# Step 3: Function to get recommendations\n",
        "def get_recommendations(title, cosine_sim=cosine_sim):\n",
        "    idx = df.index[df['title'] == title][0]  # movie index\n",
        "    sim_scores = list(enumerate(cosine_sim[idx]))\n",
        "    sim_scores = sorted(sim_scores, key=lambda x: x[1], reverse=True)\n",
        "    sim_scores = sim_scores[1:4]  # top 3\n",
        "    movie_indices = [i[0] for i in sim_scores]\n",
        "    return df['title'].iloc[movie_indices].tolist()\n",
        "\n",
        "# Test\n",
        "print(\"Recommendations for Inception:\", get_recommendations('Inception'))\n"
      ]
    }
  ]
}