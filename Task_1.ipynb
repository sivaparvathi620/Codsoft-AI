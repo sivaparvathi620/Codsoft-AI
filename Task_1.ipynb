{
  "nbformat": 4,
  "nbformat_minor": 0,
  "metadata": {
    "colab": {
      "provenance": [],
      "authorship_tag": "ABX9TyP8X/NK/iy3ZcAERxvktki6",
      "include_colab_link": true
    },
    "kernelspec": {
      "name": "python3",
      "display_name": "Python 3"
    },
    "language_info": {
      "name": "python"
    }
  },
  "cells": [
    {
      "cell_type": "markdown",
      "metadata": {
        "id": "view-in-github",
        "colab_type": "text"
      },
      "source": [
        "<a href=\"https://colab.research.google.com/github/sivaparvathi620/Codsoft-AI/blob/main/Task_1.ipynb\" target=\"_parent\"><img src=\"https://colab.research.google.com/assets/colab-badge.svg\" alt=\"Open In Colab\"/></a>"
      ]
    },
    {
      "cell_type": "code",
      "execution_count": 1,
      "metadata": {
        "colab": {
          "base_uri": "https://localhost:8080/"
        },
        "id": "FY2jkDgwObWt",
        "outputId": "90b2cc10-c86d-4732-d328-909e7fc08037"
      },
      "outputs": [
        {
          "output_type": "stream",
          "name": "stdout",
          "text": [
            "Chatbot: Hello! Type 'bye' to exit.\n",
            "You: Hi\n",
            "Chatbot: Hello! How can I help you?\n",
            "You: How are you\n",
            "Chatbot: I'm doing great, thanks!\n",
            "You: What is your name\n",
            "Chatbot: I'm a simple rule-based chatbot.\n",
            "You: bye\n",
            "Chatbot: Goodbye! Have a nice day!\n"
          ]
        }
      ],
      "source": [
        "import re\n",
        "import random\n",
        "\n",
        "# Responses stored directly in the Python file\n",
        "responses = {\n",
        "    \"hello\": {\n",
        "        \"patterns\": [\"hello\", \"hi\", \"hey\"],\n",
        "        \"responses\": [\"Hi there!\", \"Hello! How can I help you?\", \"Hey! Nice to see you.\"]\n",
        "    },\n",
        "    \"how are you\": {\n",
        "        \"patterns\": [\"how are you\", \"how's it going\", \"how do you do\"],\n",
        "        \"responses\": [\"I'm doing great, thanks!\", \"I'm fine! How about you?\", \"All good here.\"]\n",
        "    },\n",
        "    \"bye\": {\n",
        "        \"patterns\": [\"bye\", \"goodbye\", \"see you\"],\n",
        "        \"responses\": [\"Goodbye! Have a nice day!\", \"See you later!\", \"Take care!\"]\n",
        "    },\n",
        "    \"your name\": {\n",
        "        \"patterns\": [\"your name\", \"what is your name\", \"who are you\", \"tell me your name\", \"what's your name\"],\n",
        "        \"responses\": [\"I'm your friendly chatbot.\", \"You can call me ChatBuddy.\", \"I'm a simple rule-based chatbot.\"]\n",
        "    }\n",
        "}\n",
        "\n",
        "def chatbot_response(user_input):\n",
        "    user_input = user_input.lower()\n",
        "\n",
        "    # Check each intent\n",
        "    for intent, data in responses.items():\n",
        "        for pattern in data[\"patterns\"]:\n",
        "            if re.search(pattern, user_input, re.IGNORECASE):\n",
        "                return random.choice(data[\"responses\"])\n",
        "\n",
        "    return \"Sorry, I don't understand that.\"\n",
        "\n",
        "# Chat loop\n",
        "print(\"Chatbot: Hello! Type 'bye' to exit.\")\n",
        "while True:\n",
        "    user_input = input(\"You: \")\n",
        "    reply = chatbot_response(user_input)\n",
        "    print(\"Chatbot:\", reply)\n",
        "    if re.search(r\"\\bbye\\b\", user_input, re.IGNORECASE):\n",
        "        break\n"
      ]
    }
  ]
}